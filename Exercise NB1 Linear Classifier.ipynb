{
  "nbformat": 4,
  "nbformat_minor": 0,
  "metadata": {
    "colab": {
      "provenance": []
    },
    "kernelspec": {
      "name": "python3",
      "display_name": "Python 3"
    },
    "language_info": {
      "name": "python"
    }
  },
  "cells": [
    {
      "cell_type": "code",
      "execution_count": null,
      "metadata": {
        "id": "trG3cASkQ2Ah"
      },
      "outputs": [],
      "source": [
        "import tensorflow as tf\n",
        "from sklearn.datasets import load_iris\n",
        "from sklearn.model_selection import train_test_split\n",
        "from sklearn.preprocessing import StandardScaler"
      ]
    },
    {
      "cell_type": "code",
      "source": [
        "# Load the Iris dataset\n",
        "iris = load_iris()\n",
        "X, y = iris.data, iris.target"
      ],
      "metadata": {
        "id": "4mAExxaVVBdw"
      },
      "execution_count": null,
      "outputs": []
    },
    {
      "cell_type": "code",
      "source": [
        "# Split the dataset into training and testing sets with test size=0.2 and random state = 42\n",
        "X_train, X_test, y_train, y_test = train_test_split(, , test_size=, random_state=)"
      ],
      "metadata": {
        "id": "FDhWChFJXFsi"
      },
      "execution_count": null,
      "outputs": []
    },
    {
      "cell_type": "code",
      "source": [
        "# Standardize features by removing the mean and scaling to unit variance\n",
        "scaler = StandardScaler()\n",
        "X_train_scaled = scaler.fit_transform(X_train)\n",
        "X_test_scaled = scaler.transform(X_test)"
      ],
      "metadata": {
        "id": "p9egAH6LV4kA"
      },
      "execution_count": null,
      "outputs": []
    },
    {
      "cell_type": "code",
      "source": [
        "# Define the model\n",
        "model = tf.keras.Sequential([\n",
        "    tf.keras.layers,  # Input layer with 4 features\n",
        "    tf.keras.layers  # Output(Dense) layer with 3 classes and softmax activation\n",
        "])"
      ],
      "metadata": {
        "id": "i4xxqGWmV6rc"
      },
      "execution_count": null,
      "outputs": []
    },
    {
      "cell_type": "code",
      "source": [
        "# Compile the model with 'adam' optimizer, loss='sparse_categorical_crossentropy',metrics=['accuracy'])\n",
        "model.compile( )"
      ],
      "metadata": {
        "id": "BdQ9jSZfV9LA"
      },
      "execution_count": null,
      "outputs": []
    },
    {
      "cell_type": "code",
      "source": [
        "# Train the model with X_train_scaled, y_train, epochs=50, batch_size=32, verbose=1\n",
        "model.fit()"
      ],
      "metadata": {
        "colab": {
          "base_uri": "https://localhost:8080/"
        },
        "id": "At8Skw3CV_jI",
        "outputId": "67af54f7-81d3-41cb-e1a4-4c688c05a28b"
      },
      "execution_count": null,
      "outputs": [
        {
          "output_type": "stream",
          "name": "stdout",
          "text": [
            "Epoch 1/50\n",
            "4/4 [==============================] - 1s 5ms/step - loss: 1.2033 - accuracy: 0.4333\n",
            "Epoch 2/50\n",
            "4/4 [==============================] - 0s 5ms/step - loss: 1.1911 - accuracy: 0.4500\n",
            "Epoch 3/50\n",
            "4/4 [==============================] - 0s 5ms/step - loss: 1.1802 - accuracy: 0.4583\n",
            "Epoch 4/50\n",
            "4/4 [==============================] - 0s 5ms/step - loss: 1.1688 - accuracy: 0.4750\n",
            "Epoch 5/50\n",
            "4/4 [==============================] - 0s 7ms/step - loss: 1.1578 - accuracy: 0.4750\n",
            "Epoch 6/50\n",
            "4/4 [==============================] - 0s 5ms/step - loss: 1.1472 - accuracy: 0.4833\n",
            "Epoch 7/50\n",
            "4/4 [==============================] - 0s 8ms/step - loss: 1.1365 - accuracy: 0.4917\n",
            "Epoch 8/50\n",
            "4/4 [==============================] - 0s 6ms/step - loss: 1.1257 - accuracy: 0.4917\n",
            "Epoch 9/50\n",
            "4/4 [==============================] - 0s 5ms/step - loss: 1.1155 - accuracy: 0.4917\n",
            "Epoch 10/50\n",
            "4/4 [==============================] - 0s 6ms/step - loss: 1.1050 - accuracy: 0.5000\n",
            "Epoch 11/50\n",
            "4/4 [==============================] - 0s 6ms/step - loss: 1.0954 - accuracy: 0.5000\n",
            "Epoch 12/50\n",
            "4/4 [==============================] - 0s 5ms/step - loss: 1.0851 - accuracy: 0.5083\n",
            "Epoch 13/50\n",
            "4/4 [==============================] - 0s 5ms/step - loss: 1.0755 - accuracy: 0.5167\n",
            "Epoch 14/50\n",
            "4/4 [==============================] - 0s 6ms/step - loss: 1.0657 - accuracy: 0.5250\n",
            "Epoch 15/50\n",
            "4/4 [==============================] - 0s 5ms/step - loss: 1.0559 - accuracy: 0.5250\n",
            "Epoch 16/50\n",
            "4/4 [==============================] - 0s 4ms/step - loss: 1.0466 - accuracy: 0.5250\n",
            "Epoch 17/50\n",
            "4/4 [==============================] - 0s 5ms/step - loss: 1.0371 - accuracy: 0.5333\n",
            "Epoch 18/50\n",
            "4/4 [==============================] - 0s 5ms/step - loss: 1.0278 - accuracy: 0.5333\n",
            "Epoch 19/50\n",
            "4/4 [==============================] - 0s 5ms/step - loss: 1.0189 - accuracy: 0.5333\n",
            "Epoch 20/50\n",
            "4/4 [==============================] - 0s 5ms/step - loss: 1.0098 - accuracy: 0.5333\n",
            "Epoch 21/50\n",
            "4/4 [==============================] - 0s 4ms/step - loss: 1.0013 - accuracy: 0.5417\n",
            "Epoch 22/50\n",
            "4/4 [==============================] - 0s 6ms/step - loss: 0.9924 - accuracy: 0.5417\n",
            "Epoch 23/50\n",
            "4/4 [==============================] - 0s 5ms/step - loss: 0.9841 - accuracy: 0.5417\n",
            "Epoch 24/50\n",
            "4/4 [==============================] - 0s 4ms/step - loss: 0.9756 - accuracy: 0.5417\n",
            "Epoch 25/50\n",
            "4/4 [==============================] - 0s 4ms/step - loss: 0.9668 - accuracy: 0.5583\n",
            "Epoch 26/50\n",
            "4/4 [==============================] - 0s 4ms/step - loss: 0.9592 - accuracy: 0.5583\n",
            "Epoch 27/50\n",
            "4/4 [==============================] - 0s 4ms/step - loss: 0.9508 - accuracy: 0.5583\n",
            "Epoch 28/50\n",
            "4/4 [==============================] - 0s 4ms/step - loss: 0.9428 - accuracy: 0.5667\n",
            "Epoch 29/50\n",
            "4/4 [==============================] - 0s 4ms/step - loss: 0.9346 - accuracy: 0.5667\n",
            "Epoch 30/50\n",
            "4/4 [==============================] - 0s 6ms/step - loss: 0.9274 - accuracy: 0.5667\n",
            "Epoch 31/50\n",
            "4/4 [==============================] - 0s 5ms/step - loss: 0.9197 - accuracy: 0.5750\n",
            "Epoch 32/50\n",
            "4/4 [==============================] - 0s 4ms/step - loss: 0.9122 - accuracy: 0.5833\n",
            "Epoch 33/50\n",
            "4/4 [==============================] - 0s 4ms/step - loss: 0.9045 - accuracy: 0.6000\n",
            "Epoch 34/50\n",
            "4/4 [==============================] - 0s 4ms/step - loss: 0.8974 - accuracy: 0.6083\n",
            "Epoch 35/50\n",
            "4/4 [==============================] - 0s 4ms/step - loss: 0.8901 - accuracy: 0.6083\n",
            "Epoch 36/50\n",
            "4/4 [==============================] - 0s 4ms/step - loss: 0.8830 - accuracy: 0.6167\n",
            "Epoch 37/50\n",
            "4/4 [==============================] - 0s 4ms/step - loss: 0.8760 - accuracy: 0.6250\n",
            "Epoch 38/50\n",
            "4/4 [==============================] - 0s 4ms/step - loss: 0.8692 - accuracy: 0.6250\n",
            "Epoch 39/50\n",
            "4/4 [==============================] - 0s 4ms/step - loss: 0.8624 - accuracy: 0.6250\n",
            "Epoch 40/50\n",
            "4/4 [==============================] - 0s 4ms/step - loss: 0.8560 - accuracy: 0.6250\n",
            "Epoch 41/50\n",
            "4/4 [==============================] - 0s 4ms/step - loss: 0.8490 - accuracy: 0.6417\n",
            "Epoch 42/50\n",
            "4/4 [==============================] - 0s 6ms/step - loss: 0.8426 - accuracy: 0.6417\n",
            "Epoch 43/50\n",
            "4/4 [==============================] - 0s 4ms/step - loss: 0.8362 - accuracy: 0.6583\n",
            "Epoch 44/50\n",
            "4/4 [==============================] - 0s 4ms/step - loss: 0.8299 - accuracy: 0.6667\n",
            "Epoch 45/50\n",
            "4/4 [==============================] - 0s 4ms/step - loss: 0.8242 - accuracy: 0.6667\n",
            "Epoch 46/50\n",
            "4/4 [==============================] - 0s 5ms/step - loss: 0.8177 - accuracy: 0.6750\n",
            "Epoch 47/50\n",
            "4/4 [==============================] - 0s 5ms/step - loss: 0.8117 - accuracy: 0.6750\n",
            "Epoch 48/50\n",
            "4/4 [==============================] - 0s 4ms/step - loss: 0.8056 - accuracy: 0.6833\n",
            "Epoch 49/50\n",
            "4/4 [==============================] - 0s 5ms/step - loss: 0.7999 - accuracy: 0.6750\n",
            "Epoch 50/50\n",
            "4/4 [==============================] - 0s 4ms/step - loss: 0.7941 - accuracy: 0.6750\n"
          ]
        },
        {
          "output_type": "execute_result",
          "data": {
            "text/plain": [
              "<keras.src.callbacks.History at 0x7f027c631150>"
            ]
          },
          "metadata": {},
          "execution_count": 13
        }
      ]
    },
    {
      "cell_type": "code",
      "source": [
        "# Evaluate the model and print the loss and accuracy\n",
        "loss, accuracy = model.evaluate(X_test_scaled, y_test, verbose=0)\n",
        "print(f'Test loss: {}')\n",
        "print(f'Test accuracy: {}')"
      ],
      "metadata": {
        "colab": {
          "base_uri": "https://localhost:8080/"
        },
        "id": "9GGG-u9-WBlo",
        "outputId": "742ebbe6-802a-4876-b0d4-47a5b0c111bf"
      },
      "execution_count": null,
      "outputs": [
        {
          "output_type": "stream",
          "name": "stdout",
          "text": [
            "Test loss: 0.8289801478385925\n",
            "Test accuracy: 0.7333333492279053\n"
          ]
        }
      ]
    },
    {
      "cell_type": "code",
      "source": [],
      "metadata": {
        "id": "a21CSjKDWEsF"
      },
      "execution_count": null,
      "outputs": []
    }
  ]
}